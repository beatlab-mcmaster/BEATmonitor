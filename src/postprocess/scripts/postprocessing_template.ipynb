{
 "cells": [
  {
   "cell_type": "markdown",
   "id": "1231ed08-2fbf-4cab-8fbe-c12573b6ffb9",
   "metadata": {},
   "source": [
    "# Postprocessing Template (Tutorial)\n",
    "\n",
    "Before running this script, extract the example data into the `data/raw` folder in the analysis directory of this repository."
   ]
  },
  {
   "cell_type": "code",
   "execution_count": null,
   "id": "f20affc1-8ccc-4046-a49c-4a78eedae0d4",
   "metadata": {},
   "outputs": [],
   "source": [
    "import sys\n",
    "sys.path.append(\"..\") # Allow imports from project directory\n",
    "print(sys.executable) # Verify conda environment is active\n",
    "print(sys.version)\n",
    "\n",
    "# Load postprocessing modules\n",
    "from bangle_process import data_access, pipelines, reporting, utils"
   ]
  },
  {
   "attachments": {},
   "cell_type": "markdown",
   "id": "2415c346-a09e-4d8c-b562-c26a3de9947f",
   "metadata": {},
   "source": [
    "## Configuration\n",
    "\n",
    "Configuration variables are set in the file: `config.yml`.\n",
    "\n",
    "Here, the processed data and results will be output into the `template_example` folder."
   ]
  },
  {
   "cell_type": "code",
   "execution_count": null,
   "id": "5c839135-bb7d-418c-8ea2-31f20ee17269",
   "metadata": {},
   "outputs": [],
   "source": [
    "cfg = utils.load_config(\"config.yml\", print_config = True)"
   ]
  },
  {
   "cell_type": "markdown",
   "id": "725cdb2b-3274-468c-8b69-8ee488d7522b",
   "metadata": {},
   "source": [
    "## Initialize directories\n",
    "\n",
    "Ensure each folder is created to store the processed data and results."
   ]
  },
  {
   "cell_type": "code",
   "execution_count": null,
   "id": "94874354-9f31-43d5-85c3-9ec8c84ef07a",
   "metadata": {},
   "outputs": [],
   "source": [
    "utils.init_directories(cfg)"
   ]
  },
  {
   "cell_type": "markdown",
   "id": "f91018a6-9115-4b93-96d5-3c5ca5f0df1c",
   "metadata": {},
   "source": [
    "## Summarize raw data files in directory\n",
    "\n",
    "First we can check for the valid files in the raw data directory\n",
    "\n",
    "Files containing raw watch data (in the configured directory) are read and stored in a dataframe.\n",
    "\n",
    "We can then manually inspect each watch's `RecordStart` and `RecordFinish` time, its `Duration`, and the number of `Samples` collected.\n",
    "\n",
    "The file information is also exported to a `.csv` file in the `../template_example/results/summary/` folder."
   ]
  },
  {
   "cell_type": "code",
   "execution_count": null,
   "id": "9fa72048-6f2a-4138-86fe-2f6f2d36f6d7",
   "metadata": {},
   "outputs": [],
   "source": [
    "files_watch_summary = data_access.summarise_files_in_directory(cfg)\n",
    "files_watch_summary\n",
    "\n",
    "# TODO: fix this warning []"
   ]
  },
  {
   "cell_type": "markdown",
   "id": "4c29392b-1e2b-4175-bab2-28d394ca9ba3",
   "metadata": {},
   "source": [
    "We can automatically flag any records that are not within our configured length or sample rate."
   ]
  },
  {
   "cell_type": "code",
   "execution_count": null,
   "id": "5c03e17e-b217-4931-be7b-db3fda7a91f2",
   "metadata": {},
   "outputs": [],
   "source": [
    "flagged_data = data_access.flag_records(files_watch_summary, cfg)"
   ]
  },
  {
   "cell_type": "markdown",
   "id": "5baae3e7-c102-48c9-a69e-44ea094b7460",
   "metadata": {},
   "source": [
    "In this example, the following watch is flagged:"
   ]
  },
  {
   "cell_type": "code",
   "execution_count": null,
   "id": "2c15478c-0a32-4fce-9d4f-ddc0a1fc4464",
   "metadata": {},
   "outputs": [],
   "source": [
    "flagged_data"
   ]
  },
  {
   "cell_type": "markdown",
   "id": "e4231803-9050-4780-acef-cb3242586715",
   "metadata": {},
   "source": [
    "Now we can exclude this record from the watch file summary"
   ]
  },
  {
   "cell_type": "code",
   "execution_count": null,
   "id": "437bc24b-d3ec-4596-a5af-a8886c506e17",
   "metadata": {},
   "outputs": [],
   "source": [
    "files_watch_summary.drop(flagged_data.index, inplace=True)\n",
    "files_watch_summary"
   ]
  },
  {
   "cell_type": "markdown",
   "id": "8a30ce11-4ca5-4306-b6d3-e0f3340add8b",
   "metadata": {},
   "source": [
    "## Read raw data\n",
    "\n",
    "Now all of the raw data that meet our criteria can be read and combined into a single dataframe."
   ]
  },
  {
   "cell_type": "code",
   "execution_count": null,
   "id": "3e15dc61-72e9-42ef-bcec-4cbd216751e3",
   "metadata": {},
   "outputs": [],
   "source": [
    "raw_data_full = data_access.get_raw_watch_data(files_watch_summary, cfg, save_data=True)"
   ]
  },
  {
   "cell_type": "code",
   "execution_count": null,
   "id": "a8645110-816f-4345-8b63-c540040293bd",
   "metadata": {},
   "outputs": [],
   "source": [
    "raw_data_full.head()"
   ]
  },
  {
   "cell_type": "markdown",
   "id": "627b216b-03c1-4e05-a2d9-619710b35445",
   "metadata": {},
   "source": [
    "Note: The first value in the `timeDifference` column is `NaN` because [TODO:]"
   ]
  },
  {
   "cell_type": "markdown",
   "id": "312181a7-80e7-4e04-a617-cae3f6d803c7",
   "metadata": {},
   "source": [
    "### Trim raw data to time period\n",
    "\n",
    "Optionally, data outside of a specified time window can be removed from the dataframe.\n",
    "\n",
    "This time range can be specified in the config file.\n",
    "\n",
    "For example, you likely want to trim to a global start time and end time of data collection."
   ]
  },
  {
   "cell_type": "code",
   "execution_count": null,
   "id": "00da16ed-efe7-4c08-85df-f36453d07325",
   "metadata": {},
   "outputs": [],
   "source": [
    "raw_data_trimmed = data_access.trim_raw_watch_data(raw_data_full, cfg, save_data=True)"
   ]
  },
  {
   "cell_type": "code",
   "execution_count": null,
   "id": "bdaff468-d2aa-4580-9f21-38618075218c",
   "metadata": {},
   "outputs": [],
   "source": [
    "raw_data_trimmed"
   ]
  },
  {
   "cell_type": "markdown",
   "id": "c67f6599-43db-4aea-8854-6a02685c553a",
   "metadata": {},
   "source": [
    "## Visualization"
   ]
  },
  {
   "cell_type": "markdown",
   "id": "d41ffd18-652e-4e98-921c-5753aca89ce3",
   "metadata": {},
   "source": [
    "Coarse overview of time-series\n",
    "TODO"
   ]
  },
  {
   "cell_type": "code",
   "execution_count": null,
   "id": "cc0e2a43-2484-4c57-9dc7-87f3102d1ea7",
   "metadata": {},
   "outputs": [],
   "source": [
    "reporting.plotly_data(raw_data_trimmed, cfg)\n",
    "\n",
    "#TODO 4 second bins (efficiency)"
   ]
  },
  {
   "cell_type": "code",
   "execution_count": null,
   "id": "4d13fd7b-a6c0-4009-a0d2-0cd497b4be5e",
   "metadata": {},
   "outputs": [],
   "source": [
    "# Datashader\n",
    "import xarray as xr\n",
    "import datashader as ds\n",
    "import datashader.transfer_functions as tf\n",
    "\n",
    "\n",
    "def get_ds_aggs(df, name_y, h=1500, w=4000):\n",
    "    # datashader does not have native date support -- convert time to int\n",
    "    d = df.copy()\n",
    "    d.loc[:, \"ITime\"] = d[\"time\"].astype(\"int64\")\n",
    "    d.sort_values(\"ITime\", inplace=True)\n",
    "    dx_min = d[\"ITime\"].min()  # For manual scaling of img\n",
    "    dx_max = d[\"ITime\"].max()\n",
    "    dy_min = d[name_y].min() - 2\n",
    "    dy_max = d[name_y].max() + 2\n",
    "\n",
    "    # For multiple plots (each HR timeseries), cvs must be same size\n",
    "    cvs = ds.Canvas(\n",
    "        x_range=(dx_min, dx_max), y_range=(dy_min, dy_max), plot_height=h, plot_width=w\n",
    "    )\n",
    "    aggs = {}\n",
    "    for c in d[\"watchId\"].unique():\n",
    "        aggs[c] = cvs.line(d[d[\"watchId\"] == c], \"ITime\", name_y)\n",
    "    return aggs\n",
    "\n",
    "\n",
    "def plot_raw_individual_watches(df, config_dat, value=\"heartRate\"):\n",
    "    dir_fig_out = config_dat[\"directories\"][\"figures\"]\n",
    "    df_agg = get_ds_aggs(df, value)\n",
    "    for w in df_agg.keys():\n",
    "        img = tf.shade(df_agg[w])\n",
    "        ds.utils.export_image(img, dir_fig_out + f\"fig_raw_{value}_{w}\")\n",
    "\n",
    "plot_raw_individual_watches(raw_data_trimmed, cfg, value=\"ppgRaw\")"
   ]
  },
  {
   "cell_type": "code",
   "execution_count": null,
   "id": "ce667009-4b49-4cc2-89bc-a8973eff941b",
   "metadata": {},
   "outputs": [],
   "source": [
    "# Plot heartRate by default\n",
    "reporting.plot_raw_individual_watches(raw_data_trimmed, cfg)"
   ]
  },
  {
   "cell_type": "code",
   "execution_count": null,
   "id": "ab1c7a3a-6a00-4eda-8998-9965a3672ec1",
   "metadata": {},
   "outputs": [],
   "source": [
    "# Plot ppgRaw\n",
    "reporting.plot_raw_individual_watches(raw_data_trimmed, cfg, value='ppgRaw')"
   ]
  },
  {
   "cell_type": "markdown",
   "id": "298cddee-a44b-4da4-a29a-059a5e1592ed",
   "metadata": {},
   "source": [
    "## Heart rate processing"
   ]
  },
  {
   "cell_type": "markdown",
   "id": "c6f1ee74-0536-461f-ac21-1bd39854a9f6",
   "metadata": {},
   "source": [
    "### Resampling\n",
    "The raw data must be resampled at a constant rate for all watches."
   ]
  },
  {
   "cell_type": "code",
   "execution_count": null,
   "id": "c8e3a2bd-e613-40d2-ace5-27c23381eb69",
   "metadata": {},
   "outputs": [],
   "source": [
    "resampled_data_HR_1000ms = pipelines.resample_HR(raw_data_trimmed, cfg, save_data=True)"
   ]
  },
  {
   "cell_type": "code",
   "execution_count": null,
   "id": "b78c0b8a-26a7-4b86-a2db-a5333a28d8dd",
   "metadata": {},
   "outputs": [],
   "source": [
    "resampled_data_HR_1000ms.reset_index('time', inplace=True)\n",
    "# TODO: fix plotting for resampled df\n"
   ]
  },
  {
   "cell_type": "code",
   "execution_count": null,
   "id": "62c8e0ff-d431-4370-b803-f95c7d4d3c6f",
   "metadata": {},
   "outputs": [],
   "source": [
    "reporting.plotly_data(resampled_data_HR_1000ms, cfg)"
   ]
  },
  {
   "cell_type": "markdown",
   "id": "641e0d26-9d39-4193-b171-c02594c5b1e4",
   "metadata": {},
   "source": [
    "## PPG processing"
   ]
  },
  {
   "cell_type": "markdown",
   "id": "a1499ff5-7484-420d-a066-df4f5f4ce386",
   "metadata": {},
   "source": []
  },
  {
   "cell_type": "code",
   "execution_count": null,
   "id": "2f8516d3-16a6-4709-8f45-259e92292814",
   "metadata": {},
   "outputs": [],
   "source": [
    "raw_data_trimmed.reset_index(inplace=True) # TODO: Fix in resample_PPG()\n",
    "\n",
    "resampled_data_PPG_25ms = pipelines.resample_PPG(\n",
    "    raw_data_trimmed, cfg, save_data=True\n",
    ")\n",
    "# TODO: Fix warning"
   ]
  },
  {
   "cell_type": "code",
   "execution_count": null,
   "id": "9438a7c7-d6b4-4edf-b043-9e85152496f1",
   "metadata": {},
   "outputs": [],
   "source": [
    "resampled_data_PPG_25ms\n",
    "\n",
    "# Plot output -- compare to original signal"
   ]
  },
  {
   "cell_type": "markdown",
   "id": "5b2d351a-eddd-4b9b-99dd-fe42f06cedbb",
   "metadata": {},
   "source": [
    "## Peak finding"
   ]
  },
  {
   "cell_type": "code",
   "execution_count": null,
   "id": "443249d5-bb91-4a29-af75-ecbf77d1fe2e",
   "metadata": {},
   "outputs": [],
   "source": [
    "PPG_peaks = pipelines.PPG_find_peaks(resampled_data_PPG_25ms, cfg)\n",
    "PPG_peaks"
   ]
  },
  {
   "cell_type": "code",
   "execution_count": null,
   "id": "7c5b1cd2-fd19-4486-ace3-e693362c101d",
   "metadata": {},
   "outputs": [],
   "source": []
  },
  {
   "cell_type": "code",
   "execution_count": null,
   "id": "dc5c7797-36fd-44b6-ac4d-c785281ac712",
   "metadata": {},
   "outputs": [],
   "source": [
    "PPG_peaks['PPG_PeaksAlt'] = PPG_peaks['PPG_Peaks'] * PPG_peaks['PPG_Clean'].std() * 3\n",
    "PPG_peaks.loc[PPG_peaks['watchId'] == 'W020', ['PPG_Clean', 'PPG_PeaksAlt']].plot(figsize=(1000,5))"
   ]
  },
  {
   "cell_type": "markdown",
   "id": "a6d60aac-c751-41bf-99ee-d83a1ba65afd",
   "metadata": {},
   "source": [
    "TODO:\n",
    "\n",
    "Plot comparison of PPG HR and heartRate (from bangle)\n",
    "\n",
    "more meaningful function names\n",
    "\n",
    "consistent index axis names\n",
    "\n",
    "rename plot_raw_data? generalize to any data? also handle resampling.\n",
    "\n",
    "final data frame PPG-based HRV"
   ]
  },
  {
   "cell_type": "markdown",
   "id": "f7c75b73-6ae5-4b59-af15-8a2b92406121",
   "metadata": {},
   "source": [
    "# More"
   ]
  },
  {
   "cell_type": "markdown",
   "id": "608562f5-85c4-461a-bf70-b0c8172276a4",
   "metadata": {},
   "source": [
    "## Read processed data"
   ]
  },
  {
   "cell_type": "code",
   "execution_count": null,
   "id": "560ed64e-8bd7-4b40-bdce-6690ecdb8b1f",
   "metadata": {},
   "outputs": [],
   "source": []
  }
 ],
 "metadata": {
  "kernelspec": {
   "display_name": "Python 3 (ipykernel)",
   "language": "python",
   "name": "python3"
  },
  "language_info": {
   "codemirror_mode": {
    "name": "ipython",
    "version": 3
   },
   "file_extension": ".py",
   "mimetype": "text/x-python",
   "name": "python",
   "nbconvert_exporter": "python",
   "pygments_lexer": "ipython3",
   "version": "3.11.0"
  }
 },
 "nbformat": 4,
 "nbformat_minor": 5
}
